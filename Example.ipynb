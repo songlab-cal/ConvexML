{
 "cells": [
  {
   "cell_type": "markdown",
   "id": "8e2e1fb5-722b-48d8-a3ba-d4a0faddaa72",
   "metadata": {},
   "source": [
    "# This notebooks shows how to run ConvexML. We will use the intMEMOIR data as an example."
   ]
  },
  {
   "cell_type": "markdown",
   "id": "e59f028d-1325-4490-b83a-0d9c85c34ac3",
   "metadata": {},
   "source": [
    "## First install ConvexML:\n",
    "\n",
    "```\n",
    "$ pip install convexml\n",
    "```"
   ]
  },
  {
   "cell_type": "markdown",
   "id": "42db801e-a008-48d3-90b1-126a45d00b47",
   "metadata": {},
   "source": [
    "## Using ConvexML is as simple as:"
   ]
  },
  {
   "cell_type": "code",
   "execution_count": null,
   "id": "8ff266a8-4dae-4cc7-bce1-20d58c049226",
   "metadata": {},
   "outputs": [],
   "source": [
    "from convexml import convexml, plot_tree\n",
    "\n",
    "tree_newick = \"((((1,2),(3,4)),(5,6)),((8,9),10));\"\n",
    "leaf_sequences = {\n",
    "    '10': [1, 0, 0, 2, 2, 0, 2, 2, 2, 0],\n",
    "    '5': [1, 1, 0, 2, 2, 0, 2, 2, 2, 0],\n",
    "    '6': [1, 1, 0, 2, 1, 0, 2, 2, 2, 0],\n",
    "    '8': [2, 0, 2, 1, 1, 0, 1, 1, 2, 0],\n",
    "    '9': [2, 0, 2, 1, 1, 0, 1, 1, 2, 0],\n",
    "    '1': [2, 1, 0, 2, 2, 0, 2, 1, 2, 0],\n",
    "    '2': [2, 0, 0, 2, 2, 0, 2, 1, 2, 0],\n",
    "    '3': [2, 0, 0, 2, 2, 0, 2, 1, 2, 0],\n",
    "    '4': [2, 0, 0, 2, 2, 0, 2, 1, 2, 0],\n",
    "}\n",
    "\n",
    "tree_newick = convexml(\n",
    "    tree_newick=tree_newick,\n",
    "    leaf_sequences=leaf_sequences,\n",
    "    minimum_branch_length=0.15,  # (We assume that the tree has height exactly 1.0)\n",
    "    resolve_multifurcations_before_branch_length_estimation=False,\n",
    "    recover_multifurcations_after_branch_length_estimation=False,\n",
    "    # pseudo_mutations_per_edge=0,\n",
    "    # pseudo_non_mutations_per_edge=0,\n",
    "    # relative_leaf_depth=[(\"1\", 0.55), (\"2\", 0.6), (\"3\", 0.66), (\"4\", 0.7), (\"5\", 0.75), (\"6\", 0.8), (\"8\", 0.9), (\"9\", 0.95), (\"10\", 1.0)],\n",
    "    # relative_mutation_rates=[0.1, 0.2, 0.3, 0.4, 0.5, 0.6, 0.7, 0.8, 0.9, 1.0],\n",
    ")[\"tree_newick\"]\n",
    "\n",
    "plot_tree(tree_newick)"
   ]
  },
  {
   "cell_type": "markdown",
   "id": "6a9ca47e-61f7-4d58-bcba-1e0e1d5bab88",
   "metadata": {},
   "source": [
    "# NOTES:\n",
    "\n",
    "- The uncut state is represented as 0.\n",
    "- Missing data is encoded as -1.\n",
    "- `minimum_branch_length` represents the minimum branch length as a _fraction_ of the total tree height. In other words, we assume that the tree has height exactly 1.\n",
    "- For leaf edges, half of the `minimum_branch_length` value will be used, i.e. 0.075 in the example. This is because in the application of single-cell lineage tracing, leaf nodes do not represent cell division events. You can change this behaviour by passing `pendant_branch_minimum_branch_length_multiplier=1.0` (by default it is 0.5). Try it in the example above -- you will notice how the leaf edges get longer!\n",
    "- By default, pseudocounts are used when estimating branch lengths. There are two kinds of pseudocounts: `pseudo_mutations_per_edge` and `pseudo_non_mutations_per_edge`. By default, they are both equal to `0.1`. You can change these by passing their desired values to the function. Try setting `minimum_branch_length=0, pseudo_mutations_per_edge=0, pseudo_non_mutations_per_edge=0` in the code above, thus turning off _all_ regularization. You will see how some of the estimated edge lengths are zero! Regularization is a key element to the success of ConvexML on real single-cell lineage tracing datasets.\n",
    "- You can provide your own ancestral sequences with the `ancestral_sequences` argument. In this case, your newick tree should label the internal nodes too or else you will get an error.\n",
    "- We use conservative maximum parsimony to reconstruct ancestral states by default. If you want to use standard maximum parsimony, pass in `ancestral_state_reconstructor=maximum_parsimony` instead. While `maximum_parsimony` and `conservative_maximum_parsimony` agree when there is no missing data, in the presence of missing data `maximum_parsimony` may start injecting noticeable bias in the branch length estimates, as it basically propagates mutations greedily up the tree -- to far up. Instead, `conservative_maximum_parsimony` accounts for the possibility that mutations may have occurred lower on the tre.\n",
    "- If your tree has multifurcation, you may want to resolve them into an arbitrary binary structure. For that, use `resolve_multifurcations_before_branch_length_estimation=True`. If you want to resolve multifurcations _only_ for the purpose of branch length estimation (i.e. you don't want the output tree topology to change in any way), pass in `recover_multifurcations_after_branch_length_estimation=True`. This is the default behavior. Doing it this way ensures more effective regularization, since multifurcations indicate the existence of more internal nodes (e.g. cell divisions) which we can apply the minimum branch length and pseudocount constraints to.\n",
    "- You can estimate branch lengths for _non-ultrametric_ trees too. Just pass in the `relative_leaf_depth`, which specifies the relative depth of each leaf in your tree. Try it out on the example above, for example by passing in `relative_leaf_depth=[(\"1\", 0.55), (\"2\", 0.6), (\"3\", 0.66), (\"4\", 0.7), (\"5\", 0.75), (\"6\", 0.8), (\"8\", 0.9), (\"9\", 0.95), (\"10\", 1.0)]`.\n",
    "- You can specify the relative mutation rate of each site using `relative_mutation_rates`. For example, try using `relative_mutation_rates=[0.1, 0.2, 0.3, 0.4, 0.5, 0.6, 0.7, 0.8, 0.9, 1.0]`. Generally, we haven't so far found that modeling site rate variation gives improvements.\n",
    "- Our method does not attempt to collapse edges without supported mutations prior to branch length estimation. If you would like to do this, you may use the `tree.collapse_mutationless_edges(infer_ancestral_characters=True)` method of the `CassiopeiaTree` object.\n",
    "- Our API uses newick strings to make it more broadly applicable. If you are using the `cassiopeia` package, you may convert a `CassiopeiaTree` into the newick format by using `from convexml import to_newick` and then `tree_newick=to_newick(tree_cassiopeia.get_tree_topology(), record_node_names=True)`."
   ]
  },
  {
   "cell_type": "code",
   "execution_count": null,
   "id": "73eef300-5730-4d90-a927-7c70fc433957",
   "metadata": {},
   "outputs": [],
   "source": []
  }
 ],
 "metadata": {
  "kernelspec": {
   "display_name": "Python (paper_ble_final)",
   "language": "python",
   "name": "paper_ble_final"
  },
  "language_info": {
   "codemirror_mode": {
    "name": "ipython",
    "version": 3
   },
   "file_extension": ".py",
   "mimetype": "text/x-python",
   "name": "python",
   "nbconvert_exporter": "python",
   "pygments_lexer": "ipython3",
   "version": "3.8.19"
  }
 },
 "nbformat": 4,
 "nbformat_minor": 5
}
